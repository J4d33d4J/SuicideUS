{
 "cells": [
  {
   "cell_type": "markdown",
   "id": "dc27cb5c-bf41-4f62-9297-7af379d42f5d",
   "metadata": {},
   "source": [
    "Import relevant libraries: Pandas, seaborn, NumPy, Matplotlib.pyplot"
   ]
  },
  {
   "cell_type": "code",
   "execution_count": 1,
   "id": "3d33201f-5f48-41f8-a1fe-d3ffa3a8368e",
   "metadata": {},
   "outputs": [],
   "source": [
    "import pandas as pd\n",
    "import numpy as np\n",
    "import matplotlib.pyplot as plt\n",
    "import seaborn as sns"
   ]
  },
  {
   "cell_type": "markdown",
   "id": "3371e227-89f8-4876-89ae-c1e062b0fae8",
   "metadata": {},
   "source": [
    "Load in the DataFrame"
   ]
  },
  {
   "cell_type": "code",
   "execution_count": 2,
   "id": "688aaa52-f63b-438f-ade0-e2812877ae6f",
   "metadata": {},
   "outputs": [],
   "source": [
    "suicide = pd.read_csv('US_suiciderate_sexraceethn_data.csv')"
   ]
  },
  {
   "cell_type": "code",
   "execution_count": 3,
   "id": "ecbb264e-b19f-40c4-819f-93caeb599ec2",
   "metadata": {},
   "outputs": [
    {
     "name": "stdout",
     "output_type": "stream",
     "text": [
      "                 INDICATOR                                               UNIT  \\\n",
      "0  Death rates for suicide  Deaths per 100,000 resident population, age-ad...   \n",
      "1  Death rates for suicide  Deaths per 100,000 resident population, age-ad...   \n",
      "2  Death rates for suicide  Deaths per 100,000 resident population, age-ad...   \n",
      "3  Death rates for suicide  Deaths per 100,000 resident population, age-ad...   \n",
      "4  Death rates for suicide  Deaths per 100,000 resident population, age-ad...   \n",
      "\n",
      "   UNIT_NUM STUB_NAME  STUB_NAME_NUM   STUB_LABEL  STUB_LABEL_NUM  YEAR  \\\n",
      "0         1     Total              0  All persons             0.0  1950   \n",
      "1         1     Total              0  All persons             0.0  1960   \n",
      "2         1     Total              0  All persons             0.0  1970   \n",
      "3         1     Total              0  All persons             0.0  1980   \n",
      "4         1     Total              0  All persons             0.0  1981   \n",
      "\n",
      "   YEAR_NUM       AGE  AGE_NUM  ESTIMATE FLAG  \n",
      "0         1  All ages      0.0      13.2  NaN  \n",
      "1         2  All ages      0.0      12.5  NaN  \n",
      "2         3  All ages      0.0      13.1  NaN  \n",
      "3         4  All ages      0.0      12.2  NaN  \n",
      "4         5  All ages      0.0      12.3  NaN  \n"
     ]
    }
   ],
   "source": [
    "print(suicide.head())"
   ]
  },
  {
   "cell_type": "code",
   "execution_count": 92,
   "id": "1350bd53-96bf-4bd4-91fc-f77ca8d51967",
   "metadata": {},
   "outputs": [
    {
     "name": "stdout",
     "output_type": "stream",
     "text": [
      "74.8\n"
     ]
    }
   ],
   "source": [
    "print(suicide.ESTIMATE.max())"
   ]
  },
  {
   "cell_type": "code",
   "execution_count": 4,
   "id": "16849a90-c2b6-4a1e-a1d0-89d8176e3618",
   "metadata": {},
   "outputs": [
    {
     "name": "stdout",
     "output_type": "stream",
     "text": [
      "INDICATOR          object\n",
      "UNIT               object\n",
      "UNIT_NUM            int64\n",
      "STUB_NAME          object\n",
      "STUB_NAME_NUM       int64\n",
      "STUB_LABEL         object\n",
      "STUB_LABEL_NUM    float64\n",
      "YEAR                int64\n",
      "YEAR_NUM            int64\n",
      "AGE                object\n",
      "AGE_NUM           float64\n",
      "ESTIMATE          float64\n",
      "FLAG               object\n",
      "dtype: object\n"
     ]
    }
   ],
   "source": [
    "print(suicide.dtypes)"
   ]
  },
  {
   "cell_type": "code",
   "execution_count": 5,
   "id": "3abafc69-b74b-4867-92ba-92e23db548b1",
   "metadata": {},
   "outputs": [
    {
     "name": "stdout",
     "output_type": "stream",
     "text": [
      "<class 'pandas.core.frame.DataFrame'>\n",
      "RangeIndex: 6390 entries, 0 to 6389\n",
      "Data columns (total 13 columns):\n",
      " #   Column          Non-Null Count  Dtype  \n",
      "---  ------          --------------  -----  \n",
      " 0   INDICATOR       6390 non-null   object \n",
      " 1   UNIT            6390 non-null   object \n",
      " 2   UNIT_NUM        6390 non-null   int64  \n",
      " 3   STUB_NAME       6390 non-null   object \n",
      " 4   STUB_NAME_NUM   6390 non-null   int64  \n",
      " 5   STUB_LABEL      6390 non-null   object \n",
      " 6   STUB_LABEL_NUM  6390 non-null   float64\n",
      " 7   YEAR            6390 non-null   int64  \n",
      " 8   YEAR_NUM        6390 non-null   int64  \n",
      " 9   AGE             6390 non-null   object \n",
      " 10  AGE_NUM         6390 non-null   float64\n",
      " 11  ESTIMATE        5484 non-null   float64\n",
      " 12  FLAG            906 non-null    object \n",
      "dtypes: float64(3), int64(4), object(6)\n",
      "memory usage: 649.1+ KB\n",
      "None\n"
     ]
    }
   ],
   "source": [
    "print(suicide.info())"
   ]
  },
  {
   "cell_type": "code",
   "execution_count": 6,
   "id": "793f5f1c-b759-4997-98bc-300a578990b8",
   "metadata": {},
   "outputs": [],
   "source": [
    "estimate_crude_mean = suicide.groupby('UNIT').ESTIMATE.mean()"
   ]
  },
  {
   "cell_type": "code",
   "execution_count": 7,
   "id": "bb34a6a5-428b-47ac-984f-f2ed1c1f333a",
   "metadata": {},
   "outputs": [],
   "source": [
    "estimate_crude_max = suicide.groupby('UNIT').ESTIMATE.max()"
   ]
  },
  {
   "cell_type": "code",
   "execution_count": 8,
   "id": "a189a0a1-e0af-4e63-acbf-cc478a17704c",
   "metadata": {},
   "outputs": [
    {
     "name": "stdout",
     "output_type": "stream",
     "text": [
      "UNIT\n",
      "Deaths per 100,000 resident population, age-adjusted    34.2\n",
      "Deaths per 100,000 resident population, crude           74.8\n",
      "Name: ESTIMATE, dtype: float64\n"
     ]
    }
   ],
   "source": [
    "print(estimate_crude_max)"
   ]
  },
  {
   "cell_type": "code",
   "execution_count": 9,
   "id": "43693d8f-ba99-4b45-94af-2d26f7e4083e",
   "metadata": {},
   "outputs": [
    {
     "name": "stdout",
     "output_type": "stream",
     "text": [
      "UNIT\n",
      "Deaths per 100,000 resident population, age-adjusted    10.270816\n",
      "Deaths per 100,000 resident population, crude           14.232052\n",
      "Name: ESTIMATE, dtype: float64\n"
     ]
    }
   ],
   "source": [
    "print(estimate_crude_mean)"
   ]
  },
  {
   "cell_type": "code",
   "execution_count": 10,
   "id": "5f62f9bb-9b56-4f95-bfbf-fea163d7a46a",
   "metadata": {},
   "outputs": [
    {
     "name": "stdout",
     "output_type": "stream",
     "text": [
      "['Deaths per 100,000 resident population, crude']\n"
     ]
    }
   ],
   "source": [
    "crude_suicide = suicide[suicide.UNIT == 'Deaths per 100,000 resident population, crude']\n",
    "print(crude_suicide.UNIT.unique())"
   ]
  },
  {
   "cell_type": "code",
   "execution_count": 11,
   "id": "087e659b-fe10-48ab-b211-6c22341c8634",
   "metadata": {},
   "outputs": [
    {
     "name": "stdout",
     "output_type": "stream",
     "text": [
      "                   INDICATOR                                           UNIT  \\\n",
      "698  Death rates for suicide  Deaths per 100,000 resident population, crude   \n",
      "728  Death rates for suicide  Deaths per 100,000 resident population, crude   \n",
      "814  Death rates for suicide  Deaths per 100,000 resident population, crude   \n",
      "815  Death rates for suicide  Deaths per 100,000 resident population, crude   \n",
      "816  Death rates for suicide  Deaths per 100,000 resident population, crude   \n",
      "\n",
      "     UNIT_NUM STUB_NAME  STUB_NAME_NUM   STUB_LABEL  STUB_LABEL_NUM  YEAR  \\\n",
      "698         2     Total              0  All persons             0.0  1980   \n",
      "728         2     Total              0  All persons             0.0  1981   \n",
      "814         2     Total              0  All persons             0.0  1950   \n",
      "815         2     Total              0  All persons             0.0  1960   \n",
      "816         2     Total              0  All persons             0.0  1970   \n",
      "\n",
      "     YEAR_NUM       AGE  AGE_NUM  ESTIMATE FLAG  \n",
      "698         4  All ages      0.0      11.9  NaN  \n",
      "728         5  All ages      0.0      12.0  NaN  \n",
      "814         1  All ages      0.0      11.4  NaN  \n",
      "815         2  All ages      0.0      10.6  NaN  \n",
      "816         3  All ages      0.0      11.6  NaN  \n"
     ]
    }
   ],
   "source": [
    "print(crude_suicide.head())"
   ]
  },
  {
   "cell_type": "code",
   "execution_count": 12,
   "id": "c7f21795-846b-48c1-93e0-e99b775bddab",
   "metadata": {},
   "outputs": [
    {
     "name": "stderr",
     "output_type": "stream",
     "text": [
      "C:\\Users\\jonch\\AppData\\Local\\Temp\\ipykernel_19072\\3485804763.py:1: SettingWithCopyWarning: \n",
      "A value is trying to be set on a copy of a slice from a DataFrame\n",
      "\n",
      "See the caveats in the documentation: https://pandas.pydata.org/pandas-docs/stable/user_guide/indexing.html#returning-a-view-versus-a-copy\n",
      "  crude_suicide.drop(labels=['INDICATOR', 'UNIT'], axis=1, inplace=True)\n"
     ]
    }
   ],
   "source": [
    "crude_suicide.drop(labels=['INDICATOR', 'UNIT'], axis=1, inplace=True)"
   ]
  },
  {
   "cell_type": "code",
   "execution_count": 13,
   "id": "46997959-9b21-464d-8f4a-6db49b1b47ab",
   "metadata": {},
   "outputs": [
    {
     "name": "stdout",
     "output_type": "stream",
     "text": [
      "     UNIT_NUM STUB_NAME  STUB_NAME_NUM   STUB_LABEL  STUB_LABEL_NUM  YEAR  \\\n",
      "698         2     Total              0  All persons             0.0  1980   \n",
      "728         2     Total              0  All persons             0.0  1981   \n",
      "814         2     Total              0  All persons             0.0  1950   \n",
      "815         2     Total              0  All persons             0.0  1960   \n",
      "816         2     Total              0  All persons             0.0  1970   \n",
      "\n",
      "     YEAR_NUM       AGE  AGE_NUM  ESTIMATE FLAG  \n",
      "698         4  All ages      0.0      11.9  NaN  \n",
      "728         5  All ages      0.0      12.0  NaN  \n",
      "814         1  All ages      0.0      11.4  NaN  \n",
      "815         2  All ages      0.0      10.6  NaN  \n",
      "816         3  All ages      0.0      11.6  NaN  \n"
     ]
    }
   ],
   "source": [
    "print(crude_suicide.head())"
   ]
  },
  {
   "cell_type": "code",
   "execution_count": 14,
   "id": "7a2497b8-9ffc-4139-ba4a-2a9c9587c767",
   "metadata": {},
   "outputs": [
    {
     "name": "stdout",
     "output_type": "stream",
     "text": [
      "[2]\n"
     ]
    }
   ],
   "source": [
    "print(crude_suicide.UNIT_NUM.unique())"
   ]
  },
  {
   "cell_type": "code",
   "execution_count": 17,
   "id": "143bd730-26a9-471d-8262-b916238b8564",
   "metadata": {},
   "outputs": [],
   "source": [
    "crude_suicide = crude_suicide.reset_index(drop=True)"
   ]
  },
  {
   "cell_type": "code",
   "execution_count": 19,
   "id": "9cb2eeb8-a362-495f-b124-082f759c1dc7",
   "metadata": {},
   "outputs": [],
   "source": [
    "crude_suicide.drop(labels='index', axis=1, inplace=True)"
   ]
  },
  {
   "cell_type": "code",
   "execution_count": 20,
   "id": "d0f1e3e4-1ee3-415e-8c2e-90a1192cdbc5",
   "metadata": {},
   "outputs": [
    {
     "name": "stdout",
     "output_type": "stream",
     "text": [
      "   UNIT_NUM STUB_NAME  STUB_NAME_NUM   STUB_LABEL  STUB_LABEL_NUM  YEAR  \\\n",
      "0         2     Total              0  All persons             0.0  1980   \n",
      "1         2     Total              0  All persons             0.0  1981   \n",
      "2         2     Total              0  All persons             0.0  1950   \n",
      "3         2     Total              0  All persons             0.0  1960   \n",
      "4         2     Total              0  All persons             0.0  1970   \n",
      "\n",
      "   YEAR_NUM       AGE  AGE_NUM  ESTIMATE FLAG  \n",
      "0         4  All ages      0.0      11.9  NaN  \n",
      "1         5  All ages      0.0      12.0  NaN  \n",
      "2         1  All ages      0.0      11.4  NaN  \n",
      "3         2  All ages      0.0      10.6  NaN  \n",
      "4         3  All ages      0.0      11.6  NaN  \n"
     ]
    }
   ],
   "source": [
    "print(crude_suicide.head())"
   ]
  },
  {
   "cell_type": "code",
   "execution_count": 21,
   "id": "57d68405-978c-47bb-a92a-b969ab96029c",
   "metadata": {},
   "outputs": [
    {
     "name": "stdout",
     "output_type": "stream",
     "text": [
      "['Total' 'Age' 'Sex' 'Sex and age' 'Sex and race' 'Sex, age and race'\n",
      " 'Sex and race and Hispanic origin'\n",
      " 'Sex, age and race and Hispanic origin' 'Sex and race (Single race)'\n",
      " 'Sex, age and race (Single race)'\n",
      " 'Sex and race and Hispanic origin (Single race)'\n",
      " 'Sex, age and race and Hispanic origin (Single race)']\n"
     ]
    }
   ],
   "source": [
    "print(crude_suicide.STUB_NAME.unique())"
   ]
  },
  {
   "cell_type": "code",
   "execution_count": 22,
   "id": "8f0108f1-f1ea-470c-85d6-93c4496d222a",
   "metadata": {},
   "outputs": [
    {
     "name": "stdout",
     "output_type": "stream",
     "text": [
      "['All persons' '10-14 years' '15-24 years' '15-19 years' '20-24 years'\n",
      " '25-44 years' '25-34 years' '35-44 years' '45-64 years' '45-54 years'\n",
      " '55-64 years' '65 years and over' '65-74 years' '75-84 years'\n",
      " '85 years and over' 'Male' 'Female' 'Male: 10-14 years'\n",
      " 'Male: 15-24 years' 'Male: 15-19 years' 'Male: 20-24 years'\n",
      " 'Male: 25-44 years' 'Male: 25-34 years' 'Male: 35-44 years'\n",
      " 'Male: 45-64 years' 'Male: 45-54 years' 'Male: 55-64 years'\n",
      " 'Male: 65 years and over' 'Male: 65-74 years' 'Male: 75-84 years'\n",
      " 'Male: 85 years and over' 'Female: 10-14 years' 'Female: 15-24 years'\n",
      " 'Female: 15-19 years' 'Female: 20-24 years' 'Female: 25-44 years'\n",
      " 'Female: 25-34 years' 'Female: 35-44 years' 'Female: 45-64 years'\n",
      " 'Female: 45-54 years' 'Female: 55-64 years' 'Female: 65 years and over'\n",
      " 'Female: 65-74 years' 'Female: 75-84 years' 'Female: 85 years and over'\n",
      " 'Male: White' 'Male: Black or African American'\n",
      " 'Male: American Indian or Alaska Native'\n",
      " 'Male: Asian or Pacific Islander' 'Female: White'\n",
      " 'Female: Black or African American'\n",
      " 'Female: American Indian or Alaska Native'\n",
      " 'Female: Asian or Pacific Islander' 'Male: White: 15-24 years'\n",
      " 'Male: White: 25-44 years' 'Male: White: 45-64 years'\n",
      " 'Male: White: 65 years and over' 'Male: White: 65-74 years'\n",
      " 'Male: White: 75-84 years' 'Male: White: 85 years and over'\n",
      " 'Male: Black or African American: 15-24 years'\n",
      " 'Male: Black or African American: 25-44 years'\n",
      " 'Male: Black or African American: 45-64 years'\n",
      " 'Male: Black or African American: 65 years and over'\n",
      " 'Male: Black or African American: 65-74 years'\n",
      " 'Male: Black or African American: 75-84 years'\n",
      " 'Male: Black or African American: 85 years and over'\n",
      " 'Male: American Indian or Alaska Native: 15-24 years'\n",
      " 'Male: American Indian or Alaska Native: 25-44 years'\n",
      " 'Male: American Indian or Alaska Native: 45-64 years'\n",
      " 'Male: American Indian or Alaska Native: 65 years and over'\n",
      " 'Male: Asian or Pacific Islander: 15-24 years'\n",
      " 'Male: Asian or Pacific Islander: 25-44 years'\n",
      " 'Male: Asian or Pacific Islander: 45-64 years'\n",
      " 'Male: Asian or Pacific Islander: 65 years and over'\n",
      " 'Female: White: 15-24 years' 'Female: White: 25-44 years'\n",
      " 'Female: White: 45-64 years' 'Female: White: 65 years and over'\n",
      " 'Female: Black or African American: 15-24 years'\n",
      " 'Female: Black or African American: 25-44 years'\n",
      " 'Female: Black or African American: 45-64 years'\n",
      " 'Female: Black or African American: 65 years and over'\n",
      " 'Female: American Indian or Alaska Native: 15-24 years'\n",
      " 'Female: American Indian or Alaska Native: 25-44 years'\n",
      " 'Female: American Indian or Alaska Native: 45-64 years'\n",
      " 'Female: American Indian or Alaska Native: 65 years and over'\n",
      " 'Female: Asian or Pacific Islander: 15-24 years'\n",
      " 'Female: Asian or Pacific Islander: 25-44 years'\n",
      " 'Female: Asian or Pacific Islander: 45-64 years'\n",
      " 'Female: Asian or Pacific Islander: 65 years and over'\n",
      " 'Male: Not Hispanic or Latino: White'\n",
      " 'Male: Not Hispanic or Latino: Black or African American'\n",
      " 'Male: Hispanic or Latino: All races'\n",
      " 'Male: Not Hispanic or Latino: American Indian or Alaska Native'\n",
      " 'Male: Not Hispanic or Latino: Asian or Pacific Islander'\n",
      " 'Female: Not Hispanic or Latino: White'\n",
      " 'Female: Not Hispanic or Latino: Black or African American'\n",
      " 'Female: Hispanic or Latino: All races'\n",
      " 'Female: Not Hispanic or Latino: American Indian or Alaska Native'\n",
      " 'Female: Not Hispanic or Latino: Asian or Pacific Islander'\n",
      " 'Male: Not Hispanic or Latino: American Indian or Alaska Native: 15-24 years'\n",
      " 'Male: Not Hispanic or Latino: White: 15-24 years'\n",
      " 'Male: Not Hispanic or Latino: American Indian or Alaska Native: 25-44 years'\n",
      " 'Male: Not Hispanic or Latino: American Indian or Alaska Native: 45-64 years'\n",
      " 'Male: Not Hispanic or Latino: American Indian or Alaska Native: 65 years and over'\n",
      " 'Male: Not Hispanic or Latino: Asian or Pacific Islander: 15-24 years'\n",
      " 'Male: Not Hispanic or Latino: Asian or Pacific Islander: 25-44 years'\n",
      " 'Male: Not Hispanic or Latino: Asian or Pacific Islander: 45-64 years'\n",
      " 'Male: Not Hispanic or Latino: Asian or Pacific Islander: 65 years and over'\n",
      " 'Female: Not Hispanic or Latino: American Indian or Alaska Native: 15-24 years'\n",
      " 'Female: Not Hispanic or Latino: American Indian or Alaska Native: 25-44 years'\n",
      " 'Female: Not Hispanic or Latino: American Indian or Alaska Native: 45-64 years'\n",
      " 'Female: Not Hispanic or Latino: American Indian or Alaska Native: 65 years and over'\n",
      " 'Female: Not Hispanic or Latino: Asian or Pacific Islander: 15-24 years'\n",
      " 'Female: Not Hispanic or Latino: Asian or Pacific Islander: 25-44 years'\n",
      " 'Female: Not Hispanic or Latino: Asian or Pacific Islander: 45-64 years'\n",
      " 'Female: Not Hispanic or Latino: Asian or Pacific Islander: 65 years and over'\n",
      " 'Male: Not Hispanic or Latino: White: 25-44 years'\n",
      " 'Male: Not Hispanic or Latino: White: 45-64 years'\n",
      " 'Male: Not Hispanic or Latino: White: 65 years and over'\n",
      " 'Male: Not Hispanic or Latino: Black or African American: 15-24 years'\n",
      " 'Male: Not Hispanic or Latino: Black or African American: 25-44 years'\n",
      " 'Male: Not Hispanic or Latino: Black or African American: 45-64 years'\n",
      " 'Male: Not Hispanic or Latino: Black or African American: 65 years and over'\n",
      " 'Male: Hispanic or Latino: All races: 15-24 years'\n",
      " 'Male: Hispanic or Latino: All races: 25-44 years'\n",
      " 'Male: Hispanic or Latino: All races: 45-64 years'\n",
      " 'Male: Hispanic or Latino: All races: 65 years and over'\n",
      " 'Female: Not Hispanic or Latino: White: 15-24 years'\n",
      " 'Female: Not Hispanic or Latino: White: 25-44 years'\n",
      " 'Female: Not Hispanic or Latino: White: 45-64 years'\n",
      " 'Female: Not Hispanic or Latino: White: 65 years and over'\n",
      " 'Female: Not Hispanic or Latino: Black or African American: 15-24 years'\n",
      " 'Female: Not Hispanic or Latino: Black or African American: 25-44 years'\n",
      " 'Female: Not Hispanic or Latino: Black or African American: 45-64 years'\n",
      " 'Female: Not Hispanic or Latino: Black or African American: 65 years and over'\n",
      " 'Female: Hispanic or Latino: All races: 15-24 years'\n",
      " 'Female: Hispanic or Latino: All races: 25-44 years'\n",
      " 'Female: Hispanic or Latino: All races: 45-64 years'\n",
      " 'Female: Hispanic or Latino: All races: 65 years and over'\n",
      " 'Male: Not Hispanic or Latino: Asian'\n",
      " 'Male: Not Hispanic or Latino: Native Hawaiian or Other Pacific Islander'\n",
      " 'Female: Not Hispanic or Latino: Asian'\n",
      " 'Female: Not Hispanic or Latino: Native Hawaiian or Other Pacific Islander'\n",
      " 'Male: Not Hispanic or Latino: Asian: 15-24 years'\n",
      " 'Male: Not Hispanic or Latino: Asian: 25-44 years'\n",
      " 'Male: Not Hispanic or Latino: Asian: 45-64 years'\n",
      " 'Male: Not Hispanic or Latino: Asian: 65 years and over'\n",
      " 'Male: Not Hispanic or Latino: Native Hawaiian or Other Pacific Islander: 15-24 years'\n",
      " 'Male: Not Hispanic or Latino: Native Hawaiian or Other Pacific Islander: 25-44 years'\n",
      " 'Male: Not Hispanic or Latino: Native Hawaiian or Other Pacific Islander: 45-64 years'\n",
      " 'Male: Not Hispanic or Latino: Native Hawaiian or Other Pacific Islander: 65 years and over'\n",
      " 'Female: Not Hispanic or Latino: Asian: 15-24 years'\n",
      " 'Female: Not Hispanic or Latino: Asian: 25-44 years'\n",
      " 'Female: Not Hispanic or Latino: Asian: 45-64 years'\n",
      " 'Female: Not Hispanic or Latino: Asian: 65 years and over'\n",
      " 'Female: Not Hispanic or Latino: Native Hawaiian or Other Pacific Islander: 15-24 years'\n",
      " 'Female: Not Hispanic or Latino: Native Hawaiian or Other Pacific Islander: 25-44 years'\n",
      " 'Female: Not Hispanic or Latino: Native Hawaiian or Other Pacific Islander: 45-64 years'\n",
      " 'Female: Not Hispanic or Latino: Native Hawaiian or Other Pacific Islander: 65 years and over']\n"
     ]
    }
   ],
   "source": [
    "print(crude_suicide.STUB_LABEL.unique())"
   ]
  },
  {
   "cell_type": "code",
   "execution_count": 23,
   "id": "ef7c870e-9031-4d7a-8d3c-9e5f879237c0",
   "metadata": {},
   "outputs": [
    {
     "name": "stdout",
     "output_type": "stream",
     "text": [
      "[0.     1.1    1.2    1.21   1.22   1.3    1.31   1.32   1.4    1.41\n",
      " 1.42   1.5    1.51   1.52   1.53   2.1    2.2    3.11   3.12   3.121\n",
      " 3.122  3.13   3.131  3.132  3.14   3.141  3.142  3.15   3.151  3.152\n",
      " 3.153  3.21   3.22   3.221  3.222  3.23   3.231  3.232  3.24   3.241\n",
      " 3.242  3.25   3.251  3.252  3.253  4.11   4.12   4.13   4.14   4.21\n",
      " 4.22   4.23   4.24   5.112  5.113  5.114  5.115  5.1151 5.1152 5.1153\n",
      " 5.122  5.123  5.124  5.125  5.1251 5.1252 5.1253 5.132  5.133  5.134\n",
      " 5.135  5.142  5.143  5.144  5.145  5.212  5.213  5.214  5.215  5.222\n",
      " 5.223  5.224  5.225  5.232  5.233  5.234  5.235  5.242  5.243  5.244\n",
      " 5.245  6.11   6.12   6.13   6.14   6.15   6.21   6.22   6.23   6.24\n",
      " 6.25   6.141  7.112  6.142  6.143  6.144  6.151  6.152  6.153  6.154\n",
      " 6.241  6.242  6.243  6.244  6.251  6.252  6.253  6.254  7.113  7.114\n",
      " 7.115  7.122  7.123  7.124  7.125  7.132  7.133  7.134  7.135  7.212\n",
      " 7.213  7.214  7.215  7.222  7.223  7.224  7.225  7.232  7.233  7.234\n",
      " 7.235  6.16   6.17   6.26   6.27   6.161  6.162  6.163  6.164  6.171\n",
      " 6.172  6.173  6.174  6.261  6.262  6.263  6.264  6.271  6.272  6.273\n",
      " 6.274 ]\n"
     ]
    }
   ],
   "source": [
    "print(crude_suicide.STUB_LABEL_NUM.unique())"
   ]
  },
  {
   "cell_type": "code",
   "execution_count": 24,
   "id": "7c4196dd-ad57-407d-875e-1c3400266740",
   "metadata": {},
   "outputs": [],
   "source": [
    "stub_num_vs_label = crude_suicide.groupby('STUB_LABEL')['STUB_LABEL_NUM'].max()"
   ]
  },
  {
   "cell_type": "code",
   "execution_count": 25,
   "id": "d0a32046-9b67-4b91-ab90-36eed9eaf5bf",
   "metadata": {},
   "outputs": [
    {
     "name": "stdout",
     "output_type": "stream",
     "text": [
      "STUB_LABEL\n",
      "10-14 years                       1.1000\n",
      "15-19 years                       1.2100\n",
      "15-24 years                       1.2000\n",
      "20-24 years                       1.2200\n",
      "25-34 years                       1.3100\n",
      "                                   ...  \n",
      "Male: White: 45-64 years          5.1140\n",
      "Male: White: 65 years and over    5.1150\n",
      "Male: White: 65-74 years          5.1151\n",
      "Male: White: 75-84 years          5.1152\n",
      "Male: White: 85 years and over    5.1153\n",
      "Name: STUB_LABEL_NUM, Length: 161, dtype: float64\n"
     ]
    }
   ],
   "source": [
    "print(stub_num_vs_label)"
   ]
  },
  {
   "cell_type": "code",
   "execution_count": 32,
   "id": "acc956f5-9fa9-4a56-a0ec-738cd7303c2d",
   "metadata": {},
   "outputs": [
    {
     "name": "stdout",
     "output_type": "stream",
     "text": [
      "42\n"
     ]
    }
   ],
   "source": [
    "print(len(crude_suicide.YEAR.unique()))"
   ]
  },
  {
   "cell_type": "code",
   "execution_count": 27,
   "id": "dc97af90-ac65-4fa1-ab3f-2c66dadf56ad",
   "metadata": {},
   "outputs": [],
   "source": [
    "crude_suicide.sort_values(by='YEAR', inplace=True)"
   ]
  },
  {
   "cell_type": "code",
   "execution_count": 29,
   "id": "a574b91e-bbb3-4e26-b259-2b78a8d442be",
   "metadata": {},
   "outputs": [
    {
     "name": "stdout",
     "output_type": "stream",
     "text": [
      "[1950 1960 1970 1980 1981 1982 1983 1984 1985 1986 1987 1988 1989 1990\n",
      " 1991 1992 1993 1994 1995 1996 1997 1998 1999 2000 2001 2002 2003 2004\n",
      " 2005 2006 2007 2008 2009 2010 2011 2012 2013 2014 2015 2016 2017 2018]\n"
     ]
    }
   ],
   "source": [
    "print(crude_suicide.YEAR.unique())"
   ]
  },
  {
   "cell_type": "code",
   "execution_count": 31,
   "id": "1813c142-374f-4e87-b428-989c13349121",
   "metadata": {},
   "outputs": [
    {
     "name": "stdout",
     "output_type": "stream",
     "text": [
      "42\n"
     ]
    }
   ],
   "source": [
    "print(len(crude_suicide.YEAR_NUM.unique()))"
   ]
  },
  {
   "cell_type": "markdown",
   "id": "5f122e7f-2f34-4e89-bce7-1e353a1c57d4",
   "metadata": {},
   "source": [
    "Let's clean up the NaN values in our dataset"
   ]
  },
  {
   "cell_type": "code",
   "execution_count": 36,
   "id": "1ad4b13d-7a62-4125-bd3b-89e66875ae81",
   "metadata": {},
   "outputs": [
    {
     "name": "stdout",
     "output_type": "stream",
     "text": [
      "<class 'pandas.core.frame.DataFrame'>\n",
      "Index: 5578 entries, 3024 to 5577\n",
      "Data columns (total 11 columns):\n",
      " #   Column          Non-Null Count  Dtype  \n",
      "---  ------          --------------  -----  \n",
      " 0   UNIT_NUM        5578 non-null   int64  \n",
      " 1   STUB_NAME       5578 non-null   object \n",
      " 2   STUB_NAME_NUM   5578 non-null   int64  \n",
      " 3   STUB_LABEL      5578 non-null   object \n",
      " 4   STUB_LABEL_NUM  5578 non-null   float64\n",
      " 5   YEAR            5578 non-null   int64  \n",
      " 6   YEAR_NUM        5578 non-null   int64  \n",
      " 7   AGE             5578 non-null   object \n",
      " 8   AGE_NUM         5578 non-null   float64\n",
      " 9   ESTIMATE        4761 non-null   float64\n",
      " 10  FLAG            817 non-null    object \n",
      "dtypes: float64(3), int64(4), object(4)\n",
      "memory usage: 522.9+ KB\n",
      "None\n"
     ]
    }
   ],
   "source": [
    "print(crude_suicide.info())"
   ]
  },
  {
   "cell_type": "code",
   "execution_count": 50,
   "id": "08176539-22f6-47a7-94e2-1143341a0f5a",
   "metadata": {},
   "outputs": [],
   "source": [
    "nan_crude_suicide = crude_suicide[crude_suicide.ESTIMATE.isna() == True]"
   ]
  },
  {
   "cell_type": "code",
   "execution_count": 51,
   "id": "62642a8b-df31-4e08-b0ee-3a79c73d9095",
   "metadata": {},
   "outputs": [
    {
     "name": "stdout",
     "output_type": "stream",
     "text": [
      "      UNIT_NUM                              STUB_NAME  STUB_NAME_NUM  \\\n",
      "3024         2                      Sex, age and race              5   \n",
      "5272         2  Sex, age and race and Hispanic origin              7   \n",
      "4936         2  Sex, age and race and Hispanic origin              7   \n",
      "3445         2                      Sex, age and race              5   \n",
      "3488         2                      Sex, age and race              5   \n",
      "\n",
      "                                             STUB_LABEL  STUB_LABEL_NUM  YEAR  \\\n",
      "3024       Male: Asian or Pacific Islander: 25-44 years           5.143  1950   \n",
      "5272  Female: Not Hispanic or Latino: Black or Afric...           7.225  1950   \n",
      "4936  Male: Hispanic or Latino: All races: 65 years ...           7.135  1950   \n",
      "3445  Female: Black or African American: 65 years an...           5.225  1950   \n",
      "3488  Female: American Indian or Alaska Native: 15-2...           5.232  1950   \n",
      "\n",
      "      YEAR_NUM                AGE  AGE_NUM  ESTIMATE FLAG  \n",
      "3024         1        25-44 years      3.0       NaN  ...  \n",
      "5272         1  65 years and over      5.0       NaN  ...  \n",
      "4936         1  65 years and over      5.0       NaN  ...  \n",
      "3445         1  65 years and over      5.0       NaN    *  \n",
      "3488         1        15-24 years      2.0       NaN  ...  \n"
     ]
    }
   ],
   "source": [
    "print(nan_crude_suicide.head())"
   ]
  },
  {
   "cell_type": "code",
   "execution_count": 52,
   "id": "75b4c3c6-e669-4f54-bd7f-6e859f067ffd",
   "metadata": {},
   "outputs": [
    {
     "name": "stdout",
     "output_type": "stream",
     "text": [
      "['Sex, age and race' 'Sex and age' 'Age'\n",
      " 'Sex, age and race and Hispanic origin' 'Sex and race'\n",
      " 'Sex and race and Hispanic origin' 'Sex' 'Total'\n",
      " 'Sex, age and race (Single race)' 'Sex and race (Single race)'\n",
      " 'Sex, age and race and Hispanic origin (Single race)'\n",
      " 'Sex and race and Hispanic origin (Single race)']\n"
     ]
    }
   ],
   "source": [
    "print(crude_suicide.STUB_NAME.unique())"
   ]
  },
  {
   "cell_type": "code",
   "execution_count": 53,
   "id": "5cb4c186-3d8a-4cd1-b92d-7f56dc576429",
   "metadata": {},
   "outputs": [
    {
     "name": "stdout",
     "output_type": "stream",
     "text": [
      "['Sex, age and race' 'Sex, age and race and Hispanic origin'\n",
      " 'Sex and race' 'Sex and age' 'Sex and race and Hispanic origin'\n",
      " 'Sex, age and race (Single race)'\n",
      " 'Sex, age and race and Hispanic origin (Single race)'\n",
      " 'Sex and race and Hispanic origin (Single race)']\n"
     ]
    }
   ],
   "source": [
    "print(nan_crude_suicide.STUB_NAME.unique())"
   ]
  },
  {
   "cell_type": "code",
   "execution_count": 56,
   "id": "1270e123-1f06-4576-976e-2c711c065d40",
   "metadata": {},
   "outputs": [
    {
     "name": "stdout",
     "output_type": "stream",
     "text": [
      "['Age', 'Sex', 'Total', 'Sex and race (Single race)']\n"
     ]
    }
   ],
   "source": [
    "not_list = []\n",
    "for name in crude_suicide.STUB_NAME.unique():\n",
    "    if name not in nan_crude_suicide.STUB_NAME.unique():\n",
    "        not_list.append(name)\n",
    "    continue\n",
    "print(not_list)"
   ]
  },
  {
   "cell_type": "markdown",
   "id": "3e8f161b-7d09-4136-8c34-f9a1736e0216",
   "metadata": {},
   "source": [
    "We can see that, for the Series STUB_NAME, the only values that do not have 'NaN' values in the Estimate Series is 'Age', 'Sex', 'Total', 'Sex and race(Single race)']"
   ]
  },
  {
   "cell_type": "code",
   "execution_count": 60,
   "id": "d76d9dcb-d394-4b32-9c98-2499607a1b93",
   "metadata": {},
   "outputs": [],
   "source": [
    "age_crude_suicide = crude_suicide[crude_suicide['STUB_NAME'] == 'Age']"
   ]
  },
  {
   "cell_type": "code",
   "execution_count": 62,
   "id": "b15cf100-0556-4baf-86a4-f1161d976fb1",
   "metadata": {},
   "outputs": [
    {
     "name": "stdout",
     "output_type": "stream",
     "text": [
      "<class 'pandas.core.frame.DataFrame'>\n",
      "Index: 588 entries, 294 to 377\n",
      "Data columns (total 11 columns):\n",
      " #   Column          Non-Null Count  Dtype  \n",
      "---  ------          --------------  -----  \n",
      " 0   UNIT_NUM        588 non-null    int64  \n",
      " 1   STUB_NAME       588 non-null    object \n",
      " 2   STUB_NAME_NUM   588 non-null    int64  \n",
      " 3   STUB_LABEL      588 non-null    object \n",
      " 4   STUB_LABEL_NUM  588 non-null    float64\n",
      " 5   YEAR            588 non-null    int64  \n",
      " 6   YEAR_NUM        588 non-null    int64  \n",
      " 7   AGE             588 non-null    object \n",
      " 8   AGE_NUM         588 non-null    float64\n",
      " 9   ESTIMATE        588 non-null    float64\n",
      " 10  FLAG            0 non-null      object \n",
      "dtypes: float64(3), int64(4), object(4)\n",
      "memory usage: 55.1+ KB\n",
      "None\n"
     ]
    }
   ],
   "source": [
    "print(age_crude_suicide.info())"
   ]
  },
  {
   "cell_type": "code",
   "execution_count": 63,
   "id": "f0af4e4e-c82a-4c7f-8937-01e66a14187c",
   "metadata": {},
   "outputs": [
    {
     "name": "stdout",
     "output_type": "stream",
     "text": [
      "     UNIT_NUM STUB_NAME  STUB_NAME_NUM   STUB_LABEL  STUB_LABEL_NUM  YEAR  \\\n",
      "294         2       Age              1  35-44 years            1.32  1950   \n",
      "126         2       Age              1  15-19 years            1.21  1950   \n",
      "84          2       Age              1  15-24 years            1.20  1950   \n",
      "336         2       Age              1  45-64 years            1.40  1950   \n",
      "168         2       Age              1  20-24 years            1.22  1950   \n",
      "\n",
      "     YEAR_NUM          AGE  AGE_NUM  ESTIMATE FLAG  \n",
      "294         1  35-44 years      3.2      14.3  NaN  \n",
      "126         1  15-19 years      2.1       2.7  NaN  \n",
      "84          1  15-24 years      2.0       4.5  NaN  \n",
      "336         1  45-64 years      4.0      23.5  NaN  \n",
      "168         1  20-24 years      2.2       6.2  NaN  \n"
     ]
    }
   ],
   "source": [
    "print(age_crude_suicide.head())"
   ]
  },
  {
   "cell_type": "code",
   "execution_count": 64,
   "id": "0717f843-dced-4c0d-b775-28d9980db50c",
   "metadata": {},
   "outputs": [
    {
     "name": "stdout",
     "output_type": "stream",
     "text": [
      "['35-44 years' '15-19 years' '15-24 years' '45-64 years' '20-24 years'\n",
      " '25-44 years' '25-34 years' '10-14 years' '85 years and over'\n",
      " '75-84 years' '65-74 years' '65 years and over' '55-64 years'\n",
      " '45-54 years']\n"
     ]
    }
   ],
   "source": [
    "print(age_crude_suicide.AGE.unique())"
   ]
  },
  {
   "cell_type": "code",
   "execution_count": 65,
   "id": "b25febcd-24d8-4e12-a877-c164bab0da4e",
   "metadata": {},
   "outputs": [],
   "source": [
    "for age_range in age_crude_suicide.AGE.unique():\n",
    "    if age_range not in crude_suicide.AGE.unique():\n",
    "        print(age_range)"
   ]
  },
  {
   "cell_type": "markdown",
   "id": "0cd336b5-14eb-4c65-a433-3699a91a1b52",
   "metadata": {},
   "source": [
    "Let's see plot the rate of suicide for different age groups over the years from 1950 to 2018"
   ]
  },
  {
   "cell_type": "code",
   "execution_count": 91,
   "id": "7a39fe95-f888-44b0-ad8d-a69a124ba5ea",
   "metadata": {},
   "outputs": [],
   "source": [
    "age_10_14 = age_crude_suicide[age_crude_suicide.AGE == '10-14 years']\n",
    "age_15_19 = age_crude_suicide[age_crude_suicide.AGE == '15-19 years']\n",
    "age_20_24 = age_crude_suicide[age_crude_suicide.AGE == '20-24 years']\n",
    "age_25_34 = age_crude_suicide[age_crude_suicide.AGE == '25-34 years']\n",
    "age_35_44 = age_crude_suicide[age_crude_suicide.AGE == '35-44 years']\n",
    "age_45_54 = age_crude_suicide[age_crude_suicide.AGE == '45-54 years']\n",
    "age_55_64 = age_crude_suicide[age_crude_suicide.AGE == '55-64 years']\n",
    "age_65_74 = age_crude_suicide[age_crude_suicide.AGE == '65-74 years']\n",
    "age_75_84 = age_crude_suicide[age_crude_suicide.AGE == '75-84 years']\n",
    "age_85_above = age_crude_suicide[age_crude_suicide.AGE == '85 years and over']"
   ]
  },
  {
   "cell_type": "code",
   "execution_count": 104,
   "id": "df345eb6-e379-4fec-afed-3848ab87a35f",
   "metadata": {},
   "outputs": [
    {
     "name": "stdout",
     "output_type": "stream",
     "text": [
      "28.8\n"
     ]
    }
   ],
   "source": [
    "print(age_85_above.ESTIMATE.max())"
   ]
  },
  {
   "cell_type": "code",
   "execution_count": 105,
   "id": "a7bcccfc-d951-4740-b6f9-20e6efc511e4",
   "metadata": {},
   "outputs": [
    {
     "name": "stdout",
     "output_type": "stream",
     "text": [
      "[1950, 1960, 1970, 1980, 1981, 1982, 1983, 1984, 1985, 1986, 1987, 1988, 1989, 1990, 1991, 1992, 1993, 1994, 1995, 1996, 1997, 1998, 1999, 2000, 2001, 2002, 2003, 2004, 2005, 2006, 2007, 2008, 2009, 2010, 2011, 2012, 2013, 2014, 2015, 2016, 2017, 2018]\n"
     ]
    }
   ],
   "source": [
    "print(list(age_10_14.YEAR.unique()))"
   ]
  },
  {
   "cell_type": "code",
   "execution_count": 146,
   "id": "dd9fb231-4c0c-45e2-a18e-34897970e6db",
   "metadata": {},
   "outputs": [
    {
     "data": {
      "image/png": "[encoded data removed]",
      "text/plain": [
       "<Figure size 640x480 with 1 Axes>"
      ]
     },
     "metadata": {},
     "output_type": "display_data"
    },
    {
     "data": {
      "text/plain": [
       "<Figure size 640x480 with 0 Axes>"
      ]
     },
     "metadata": {},
     "output_type": "display_data"
    }
   ],
   "source": [
    "ax1 = plt.subplot()\n",
    "plt.title('Age-Group vs. Suicide Rate from 1950 to 2018')\n",
    "ax1.plot(age_10_14.YEAR, age_10_14.ESTIMATE, label='10-14 Years Old', color='green')\n",
    "ax1.set_xticks([1950, 1960, 1970, 1980, 1985, 1990, 1995, 2000, 2005, 2010, 2015, 2018])\n",
    "ax1.set_xticklabels([str(x) for x in [1950, 1960, 1970, 1980, 1985, 1990, 1995, 2000, 2005, 2010, 2015, 2018]], rotation=90)\n",
    "ax1.set_yticks(range(0, 30, 5))\n",
    "ax1.set_xlabel('Years')\n",
    "ax1.set_ylabel('Suicide Rate per 100k residents')\n",
    "\n",
    "ax2 = plt.subplot()\n",
    "ax2.plot(age_15_19.YEAR, age_15_19.ESTIMATE, label='15-19 Years Old', color='red')\n",
    "\n",
    "ax3 = plt.subplot()\n",
    "ax3.plot(age_20_24.YEAR, age_20_24.ESTIMATE, label='20-24 Years Old', color='blue')\n",
    "\n",
    "ax4 = plt.subplot()\n",
    "ax4.plot(age_25_34.YEAR, age_25_34.ESTIMATE, label='25-34 Years Old', color='black')\n",
    "\n",
    "ax5 = plt.subplot()\n",
    "ax5.plot(age_35_44.YEAR, age_35_44.ESTIMATE, label='35-44 Years Old', color='grey')\n",
    "\n",
    "ax6 = plt.subplot()\n",
    "ax6.plot(age_45_54.YEAR, age_45_54.ESTIMATE, label='45-54 Years Old', color='orange')\n",
    "\n",
    "ax7 = plt.subplot()\n",
    "ax7.plot(age_55_64.YEAR, age_55_64.ESTIMATE, label='55-64 Years Old', color='pink')\n",
    "\n",
    "ax8 = plt.subplot()\n",
    "ax8.plot(age_65_74.YEAR, age_65_74.ESTIMATE, label='65-74 Years Old', color='yellow')\n",
    "\n",
    "ax9 = plt.subplot()\n",
    "ax9.plot(age_75_84.YEAR, age_75_84.ESTIMATE, label='75-84 Years Old', color='olive')\n",
    "\n",
    "ax10 = plt.subplot()\n",
    "ax10.plot(age_85_above.YEAR, age_85_above.ESTIMATE, label='85 and Above Years Old', color='purple')\n",
    "\n",
    "plt.legend(loc=2)\n",
    "plt.show()\n",
    "plt.clf()"
   ]
  },
  {
   "cell_type": "code",
   "execution_count": 126,
   "id": "1844998a-38f4-4923-ae87-7c80532451dd",
   "metadata": {},
   "outputs": [],
   "source": [
    "year_age_est = age_crude_suicide.groupby(['YEAR', 'AGE']).ESTIMATE.sum().reset_index()"
   ]
  },
  {
   "cell_type": "code",
   "execution_count": 127,
   "id": "31e2326f-50ff-4441-b5d1-814ef08369e8",
   "metadata": {},
   "outputs": [
    {
     "name": "stdout",
     "output_type": "stream",
     "text": [
      "     YEAR                AGE  ESTIMATE\n",
      "0    1950        10-14 years       0.3\n",
      "1    1950        15-19 years       2.7\n",
      "2    1950        15-24 years       4.5\n",
      "3    1950        20-24 years       6.2\n",
      "4    1950        25-34 years       9.1\n",
      "..    ...                ...       ...\n",
      "583  2018        55-64 years      20.2\n",
      "584  2018  65 years and over      17.4\n",
      "585  2018        65-74 years      16.3\n",
      "586  2018        75-84 years      18.7\n",
      "587  2018  85 years and over      19.1\n",
      "\n",
      "[588 rows x 3 columns]\n"
     ]
    }
   ],
   "source": [
    "print(year_age_est)"
   ]
  },
  {
   "cell_type": "code",
   "execution_count": 129,
   "id": "2076f2b2-e7a1-4efc-a884-4a88efdf8d14",
   "metadata": {},
   "outputs": [
    {
     "name": "stdout",
     "output_type": "stream",
     "text": [
      "AGE  YEAR  10-14 years  15-19 years  15-24 years  20-24 years  25-34 years  \\\n",
      "0    1950          0.3          2.7          4.5          6.2          9.1   \n",
      "1    1960          0.5          3.6          5.2          7.1         10.0   \n",
      "2    1970          0.6          5.9          8.8         12.2         14.1   \n",
      "3    1980          0.8          8.5         12.3         16.1         16.0   \n",
      "4    1981          0.9          8.6         12.2         15.7         16.3   \n",
      "5    1982          1.1          8.7         12.1         15.2         16.0   \n",
      "6    1983          1.1          8.6         11.8         14.6         15.8   \n",
      "7    1984          1.3          8.9         12.4         15.5         15.6   \n",
      "8    1985          1.6          9.9         12.8         15.4         15.3   \n",
      "9    1986          1.5         10.1         12.9         15.5         15.8   \n",
      "10   1987          1.5         10.2         12.7         15.0         15.5   \n",
      "11   1988          1.4         11.1         12.9         14.6         15.6   \n",
      "12   1989          1.4         11.1         13.0         14.9         15.2   \n",
      "13   1990          1.5         11.1         13.2         15.1         15.2   \n",
      "14   1991          1.5         11.0         13.0         14.8         15.1   \n",
      "15   1992          1.7         10.7         12.9         14.8         14.4   \n",
      "16   1993          1.7         10.8         13.3         15.6         14.8   \n",
      "17   1994          1.7         10.9         13.6         16.1         15.0   \n",
      "18   1995          1.7         10.3         13.0         15.8         15.0   \n",
      "19   1996          1.5          9.6         11.8         14.2         14.0   \n",
      "20   1997          1.5          9.3         11.2         13.3         13.7   \n",
      "21   1998          1.6          8.8         10.9         13.2         13.2   \n",
      "22   1999          1.2          8.0         10.1         12.3         12.7   \n",
      "23   2000          1.5          8.0         10.2         12.5         12.0   \n",
      "24   2001          1.3          7.9          9.9         11.9         12.8   \n",
      "25   2002          1.2          7.3          9.8         12.3         12.8   \n",
      "26   2003          1.1          7.2          9.6         12.1         12.9   \n",
      "27   2004          1.3          8.1         10.3         12.5         12.9   \n",
      "28   2005          1.3          7.5          9.9         12.4         12.7   \n",
      "29   2006          1.0          7.1          9.8         12.5         12.7   \n",
      "30   2007          0.9          6.7          9.6         12.6         13.3   \n",
      "31   2008          1.0          7.2          9.9         12.7         13.2   \n",
      "32   2009          1.3          7.5         10.0         12.6         13.1   \n",
      "33   2010          1.3          7.5         10.5         13.6         14.0   \n",
      "34   2011          1.4          8.3         11.0         13.6         14.6   \n",
      "35   2012          1.5          8.3         11.1         13.7         14.7   \n",
      "36   2013          1.9          8.3         11.1         13.7         14.8   \n",
      "37   2014          2.1          8.7         11.6         14.2         15.1   \n",
      "38   2015          2.0          9.8         12.5         15.1         15.7   \n",
      "39   2016          2.1         10.0         13.2         16.1         16.5   \n",
      "40   2017          2.5         11.8         14.5         17.0         17.5   \n",
      "41   2018          2.9         11.4         14.5         17.4         17.6   \n",
      "\n",
      "AGE  25-44 years  35-44 years  45-54 years  45-64 years  55-64 years  \\\n",
      "0           11.6         14.3         20.9         23.5         26.8   \n",
      "1           12.2         14.2         20.7         22.0         23.7   \n",
      "2           15.4         16.9         20.0         20.6         21.4   \n",
      "3           15.6         15.4         15.9         15.9         15.9   \n",
      "4           16.2         15.9         16.1         16.2         16.4   \n",
      "5           15.8         15.4         16.5         16.8         17.0   \n",
      "6           15.3         14.7         16.2         16.4         16.6   \n",
      "7           15.4         15.1         16.3         16.8         17.4   \n",
      "8           15.0         14.6         15.7         16.3         16.8   \n",
      "9           15.6         15.2         16.5         16.8         17.2   \n",
      "10          15.3         15.0         16.1         16.4         16.8   \n",
      "11          15.2         14.8         14.7         15.3         15.8   \n",
      "12          14.9         14.6         14.8         15.2         15.7   \n",
      "13          15.2         15.3         14.8         15.3         16.0   \n",
      "14          14.9         14.7         15.4         15.4         15.4   \n",
      "15          14.7         15.0         14.6         14.7         14.8   \n",
      "16          14.9         15.1         14.4         14.5         14.6   \n",
      "17          15.1         15.2         14.2         13.9         13.3   \n",
      "18          15.1         15.1         14.4         13.9         13.2   \n",
      "19          14.8         15.5         14.7         14.3         13.5   \n",
      "20          14.5         15.2         14.5         14.0         13.3   \n",
      "21          14.3         15.3         14.6         13.9         12.9   \n",
      "22          13.6         14.3         13.9         13.2         12.2   \n",
      "23          13.4         14.5         14.4         13.5         12.1   \n",
      "24          13.8         14.7         15.1         14.4         13.2   \n",
      "25          14.2         15.3         15.8         14.9         13.5   \n",
      "26          14.0         15.0         15.9         15.0         13.7   \n",
      "27          14.1         15.2         16.6         15.4         13.7   \n",
      "28          13.9         15.1         16.5         15.3         13.7   \n",
      "29          14.0         15.2         17.2         16.0         14.4   \n",
      "30          14.5         15.7         17.7         16.7         15.3   \n",
      "31          14.6         15.9         18.6         17.5         16.0   \n",
      "32          14.6         16.1         19.2         17.9         16.4   \n",
      "33          15.0         16.0         19.6         18.6         17.5   \n",
      "34          15.4         16.2         19.8         18.6         17.1   \n",
      "35          15.7         16.7         20.0         19.1         18.0   \n",
      "36          15.5         16.2         19.7         19.0         18.1   \n",
      "37          15.8         16.6         20.2         19.5         18.8   \n",
      "38          16.4         17.1         20.3         19.6         18.9   \n",
      "39          16.9         17.4         19.7         19.2         18.7   \n",
      "40          17.7         17.9         20.2         19.6         19.0   \n",
      "41          17.9         18.2         20.0         20.1         20.2   \n",
      "\n",
      "AGE  65 years and over  65-74 years  75-84 years  85 years and over  \n",
      "0                 30.0         29.6         31.1               28.8  \n",
      "1                 24.5         23.0         27.9               26.0  \n",
      "2                 20.8         20.8         21.2               19.0  \n",
      "3                 17.6         16.9         19.1               19.2  \n",
      "4                 17.1         16.2         18.6               17.8  \n",
      "5                 18.4         17.4         20.5               17.6  \n",
      "6                 19.3         17.8         22.2               19.4  \n",
      "7                 19.8         18.9         21.9               18.6  \n",
      "8                 20.4         18.7         23.9               19.4  \n",
      "9                 21.6         19.9         25.0               21.1  \n",
      "10                21.8         19.7         25.6               22.5  \n",
      "11                21.1         18.7         25.6               21.0  \n",
      "12                20.3         18.3         22.9               23.4  \n",
      "13                20.5         17.9         24.9               22.2  \n",
      "14                19.7         16.9         23.5               23.8  \n",
      "15                19.0         16.4         22.8               21.5  \n",
      "16                18.9         16.3         22.2               22.6  \n",
      "17                18.0         15.2         21.2               22.8  \n",
      "18                17.9         15.7         20.6               21.3  \n",
      "19                17.1         14.9         19.9               20.0  \n",
      "20                16.7         14.3         19.1               20.6  \n",
      "21                16.8         14.0         19.6               21.1  \n",
      "22                15.8         13.4         18.1               19.3  \n",
      "23                15.2         12.5         17.6               19.6  \n",
      "24                15.3         13.2         17.4               17.8  \n",
      "25                15.6         13.4         17.7               18.9  \n",
      "26                14.6         12.6         16.4               17.9  \n",
      "27                14.4         12.2         16.3               17.6  \n",
      "28                14.7         12.4         16.8               18.3  \n",
      "29                14.3         12.4         15.8               17.3  \n",
      "30                14.3         12.4         16.2               17.0  \n",
      "31                14.8         13.6         16.1               16.4  \n",
      "32                14.8         13.7         15.8               16.4  \n",
      "33                14.9         13.7         15.7               17.6  \n",
      "34                15.3         14.1         16.5               16.9  \n",
      "35                15.4         14.0         16.8               17.8  \n",
      "36                16.1         15.0         17.1               18.6  \n",
      "37                16.7         15.6         17.5               19.3  \n",
      "38                16.6         15.2         17.9               19.4  \n",
      "39                16.7         15.4         18.2               19.0  \n",
      "40                16.8         15.6         18.0               20.1  \n",
      "41                17.4         16.3         18.7               19.1  \n"
     ]
    }
   ],
   "source": [
    "pivot_year_age_est = year_age_est.pivot(\n",
    "    index = 'YEAR',\n",
    "    columns = 'AGE', \n",
    "    values = 'ESTIMATE').reset_index()\n",
    "print(pivot_year_age_est)"
   ]
  },
  {
   "cell_type": "code",
   "execution_count": 144,
   "id": "45ac5f8f-0284-406d-8461-c7c2a891aa2c",
   "metadata": {},
   "outputs": [
    {
     "name": "stdout",
     "output_type": "stream",
     "text": [
      "['35-44 years' '15-19 years' '15-24 years' '45-64 years' '20-24 years'\n",
      " '25-44 years' '25-34 years' '10-14 years' '85 years and over'\n",
      " '75-84 years' '65-74 years' '65 years and over' '55-64 years'\n",
      " '45-54 years']\n"
     ]
    }
   ],
   "source": [
    "print(age_crude_suicide.AGE.unique())"
   ]
  },
  {
   "cell_type": "code",
   "execution_count": 145,
   "id": "ac3183ed-d46f-4563-a731-a7f54af39d9b",
   "metadata": {},
   "outputs": [],
   "source": [
    "age_15_24 = age_crude_suicide[age_crude_suicide.AGE == '15-24 years']\n",
    "age_25_44 = age_crude_suicide[age_crude_suicide.AGE == '25-44 years']\n",
    "age_45_64 = age_crude_suicide[age_crude_suicide.AGE == '45-64 years']\n",
    "age_65andover = age_crude_suicide[age_crude_suicide.AGE == '65 years and over']"
   ]
  },
  {
   "cell_type": "code",
   "execution_count": 149,
   "id": "892a7bf8-6146-46eb-a60b-f7c558c6b76b",
   "metadata": {},
   "outputs": [
    {
     "data": {
      "image/png": "[encoded data removed]",
      "text/plain": [
       "<Figure size 640x480 with 1 Axes>"
      ]
     },
     "metadata": {},
     "output_type": "display_data"
    },
    {
     "data": {
      "text/plain": [
       "<Figure size 640x480 with 0 Axes>"
      ]
     },
     "metadata": {},
     "output_type": "display_data"
    }
   ],
   "source": [
    "ax1 = plt.subplot()\n",
    "plt.title('Age-Group vs. Suicide Rate from 1950 to 2018')\n",
    "ax1.plot(age_15_24.YEAR, age_15_24.ESTIMATE, label='15-24 Years Old', color='green')\n",
    "ax1.set_xticks([1950, 1960, 1970, 1980, 1985, 1990, 1995, 2000, 2005, 2010, 2015, 2018])\n",
    "ax1.set_xticklabels([str(x) for x in [1950, 1960, 1970, 1980, 1985, 1990, 1995, 2000, 2005, 2010, 2015, 2018]], rotation=90)\n",
    "ax1.set_yticks(range(0, 30, 5))\n",
    "ax1.set_xlabel('Years')\n",
    "ax1.set_ylabel('Suicide Rate per 100k residents')\n",
    "\n",
    "ax2 = plt.subplot()\n",
    "ax2.plot(age_25_44.YEAR, age_25_44.ESTIMATE, label='25-44 Years Old', color='pink')\n",
    "\n",
    "ax3 = plt.subplot()\n",
    "ax3.plot(age_45_64.YEAR, age_45_64.ESTIMATE, label='45-64 Years Old', color='blue')\n",
    "\n",
    "ax4 = plt.subplot()\n",
    "ax4.plot(age_65andover.YEAR, age_65andover.ESTIMATE, label='65 Years Old and over', color='black')\n",
    "\n",
    "plt.legend(loc=4)\n",
    "plt.show()\n",
    "plt.clf()"
   ]
  },
  {
   "cell_type": "code",
   "execution_count": 150,
   "id": "58b96133-8ce4-498a-86b7-6b13b2a1948b",
   "metadata": {},
   "outputs": [],
   "source": [
    "df_list = [age_15_24, age_25_44, age_45_64, age_65andover]\n",
    "pct_age_crude_suicide = pd.concat(df_list)"
   ]
  },
  {
   "cell_type": "code",
   "execution_count": 193,
   "id": "434d100d-146d-4d32-9e2f-36cd7c72c609",
   "metadata": {},
   "outputs": [],
   "source": [
    "pct_age_crude_byyear = pct_age_crude_suicide.reset_index(drop=True)\n",
    "pct_age_crude_byyear.sort_values(by='YEAR', inplace=True)"
   ]
  },
  {
   "cell_type": "code",
   "execution_count": 164,
   "id": "09af4966-e6bd-4ec4-858e-7dc0943f6396",
   "metadata": {},
   "outputs": [
    {
     "name": "stdout",
     "output_type": "stream",
     "text": [
      "     UNIT_NUM STUB_NAME  STUB_NAME_NUM         STUB_LABEL  STUB_LABEL_NUM  \\\n",
      "0           2       Age              1        15-24 years             1.2   \n",
      "126         2       Age              1  65 years and over             1.5   \n",
      "42          2       Age              1        25-44 years             1.3   \n",
      "84          2       Age              1        45-64 years             1.4   \n",
      "85          2       Age              1        45-64 years             1.4   \n",
      "\n",
      "     YEAR  YEAR_NUM                AGE  AGE_NUM  ESTIMATE FLAG  AGE_RATING  \n",
      "0    1950         1        15-24 years      2.0       4.5  NaN          13  \n",
      "126  1950         1  65 years and over      5.0      30.0  NaN          13  \n",
      "42   1950         1        25-44 years      3.0      11.6  NaN          13  \n",
      "84   1950         1        45-64 years      4.0      23.5  NaN          13  \n",
      "85   1960         2        45-64 years      4.0      22.0  NaN          13  \n"
     ]
    }
   ],
   "source": [
    "pct_age_crude_byyear.reset_index(drop=True)\n",
    "print(pct_age_crude_byyear.head())"
   ]
  },
  {
   "cell_type": "code",
   "execution_count": 171,
   "id": "df3173ce-5d27-4cb4-8b64-f5b50170733a",
   "metadata": {},
   "outputs": [
    {
     "name": "stdout",
     "output_type": "stream",
     "text": [
      "   YEAR  ESTIMATE\n",
      "0  1950      69.6\n",
      "1  1960      63.9\n",
      "2  1970      65.6\n",
      "3  1980      61.4\n",
      "4  1981      61.7\n"
     ]
    }
   ],
   "source": [
    "pct_age_crude_byyeartotal = pct_age_crude_byyear.groupby('YEAR').ESTIMATE.sum().reset_index()\n",
    "print(pct_age_crude_byyeartotal.head())"
   ]
  },
  {
   "cell_type": "code",
   "execution_count": 169,
   "id": "87cbf900-3887-4561-af36-7c97142ef030",
   "metadata": {},
   "outputs": [],
   "source": [
    "pct_age_total = pd.merge(\n",
    "    pct_age_crude_byyear, \n",
    "    pct_age_crude_byyeartotal,\n",
    "    left_on = 'YEAR',\n",
    "    right_on = 'YEAR')"
   ]
  },
  {
   "cell_type": "code",
   "execution_count": 170,
   "id": "9153de4f-f19d-4272-8486-50d3a8dfa766",
   "metadata": {},
   "outputs": [
    {
     "name": "stdout",
     "output_type": "stream",
     "text": [
      "   UNIT_NUM STUB_NAME  STUB_NAME_NUM         STUB_LABEL  STUB_LABEL_NUM  YEAR  \\\n",
      "0         2       Age              1        15-24 years             1.2  1950   \n",
      "1         2       Age              1  65 years and over             1.5  1950   \n",
      "2         2       Age              1        25-44 years             1.3  1950   \n",
      "3         2       Age              1        45-64 years             1.4  1950   \n",
      "4         2       Age              1        45-64 years             1.4  1960   \n",
      "\n",
      "   YEAR_NUM                AGE  AGE_NUM  ESTIMATE_x FLAG  AGE_RATING  \\\n",
      "0         1        15-24 years      2.0         4.5  NaN          13   \n",
      "1         1  65 years and over      5.0        30.0  NaN          13   \n",
      "2         1        25-44 years      3.0        11.6  NaN          13   \n",
      "3         1        45-64 years      4.0        23.5  NaN          13   \n",
      "4         2        45-64 years      4.0        22.0  NaN          13   \n",
      "\n",
      "   ESTIMATE_y  \n",
      "0        69.6  \n",
      "1        69.6  \n",
      "2        69.6  \n",
      "3        69.6  \n",
      "4        63.9  \n"
     ]
    }
   ],
   "source": [
    "print(pct_age_total.head())"
   ]
  },
  {
   "cell_type": "code",
   "execution_count": 177,
   "id": "82259562-4e6e-4feb-a887-9ed0c69d867b",
   "metadata": {},
   "outputs": [
    {
     "name": "stdout",
     "output_type": "stream",
     "text": [
      "   UNIT_NUM STUB_NAME  STUB_NAME_NUM         STUB_LABEL  STUB_LABEL_NUM  YEAR  \\\n",
      "0         2       Age              1        15-24 years             1.2  1950   \n",
      "1         2       Age              1  65 years and over             1.5  1950   \n",
      "2         2       Age              1        25-44 years             1.3  1950   \n",
      "3         2       Age              1        45-64 years             1.4  1950   \n",
      "4         2       Age              1        45-64 years             1.4  1960   \n",
      "\n",
      "   YEAR_NUM                AGE  AGE_NUM  ESTIMATE FLAG  AGE_RATING  TOTAL  \n",
      "0         1        15-24 years      2.0       4.5  NaN          13   69.6  \n",
      "1         1  65 years and over      5.0      30.0  NaN          13   69.6  \n",
      "2         1        25-44 years      3.0      11.6  NaN          13   69.6  \n",
      "3         1        45-64 years      4.0      23.5  NaN          13   69.6  \n",
      "4         2        45-64 years      4.0      22.0  NaN          13   63.9  \n"
     ]
    }
   ],
   "source": [
    "pct_age_total = pct_age_total.rename(columns={'ESTIMATE_x': 'ESTIMATE', 'ESTIMATE_y': 'TOTAL'})\n",
    "print(pct_age_total.head())"
   ]
  },
  {
   "cell_type": "code",
   "execution_count": 181,
   "id": "ec374827-4d7f-49b8-b679-19b86fd79684",
   "metadata": {},
   "outputs": [],
   "source": [
    "pct_age_total['PCT'] = round(pct_age_total.ESTIMATE / pct_age_total.TOTAL, 4) * 100"
   ]
  },
  {
   "cell_type": "code",
   "execution_count": 182,
   "id": "c50e7c55-1273-47b1-ac31-41b3d773b1f8",
   "metadata": {},
   "outputs": [
    {
     "name": "stdout",
     "output_type": "stream",
     "text": [
      "   UNIT_NUM STUB_NAME  STUB_NAME_NUM         STUB_LABEL  STUB_LABEL_NUM  YEAR  \\\n",
      "0         2       Age              1        15-24 years             1.2  1950   \n",
      "1         2       Age              1  65 years and over             1.5  1950   \n",
      "2         2       Age              1        25-44 years             1.3  1950   \n",
      "3         2       Age              1        45-64 years             1.4  1950   \n",
      "4         2       Age              1        45-64 years             1.4  1960   \n",
      "\n",
      "   YEAR_NUM                AGE  AGE_NUM  ESTIMATE FLAG  AGE_RATING  TOTAL  \\\n",
      "0         1        15-24 years      2.0       4.5  NaN          13   69.6   \n",
      "1         1  65 years and over      5.0      30.0  NaN          13   69.6   \n",
      "2         1        25-44 years      3.0      11.6  NaN          13   69.6   \n",
      "3         1        45-64 years      4.0      23.5  NaN          13   69.6   \n",
      "4         2        45-64 years      4.0      22.0  NaN          13   63.9   \n",
      "\n",
      "     PCT  \n",
      "0   6.47  \n",
      "1  43.10  \n",
      "2  16.67  \n",
      "3  33.76  \n",
      "4  34.43  \n"
     ]
    }
   ],
   "source": [
    "print(pct_age_total.head())"
   ]
  },
  {
   "cell_type": "code",
   "execution_count": 183,
   "id": "78d9f226-5f88-4764-9682-ffab3caeac95",
   "metadata": {},
   "outputs": [
    {
     "name": "stdout",
     "output_type": "stream",
     "text": [
      "YEAR  AGE              \n",
      "1950  15-24 years           6.47\n",
      "      25-44 years          16.67\n",
      "      45-64 years          33.76\n",
      "      65 years and over    43.10\n",
      "1960  15-24 years           8.14\n",
      "                           ...  \n",
      "2017  65 years and over    24.49\n",
      "2018  15-24 years          20.74\n",
      "      25-44 years          25.61\n",
      "      45-64 years          28.76\n",
      "      65 years and over    24.89\n",
      "Name: PCT, Length: 168, dtype: float64\n"
     ]
    }
   ],
   "source": [
    "print(pct_age_total.groupby(['YEAR', 'AGE']).PCT.sum())"
   ]
  },
  {
   "cell_type": "code",
   "execution_count": 184,
   "id": "78e601ab-ef1d-4bc1-a0b6-2a1e605b24df",
   "metadata": {},
   "outputs": [
    {
     "name": "stdout",
     "output_type": "stream",
     "text": [
      "AGE  YEAR  15-24 years  25-44 years  45-64 years  65 years and over\n",
      "0    1950         6.47        16.67        33.76              43.10\n",
      "1    1960         8.14        19.09        34.43              38.34\n",
      "2    1970        13.41        23.48        31.40              31.71\n",
      "3    1980        20.03        25.41        25.90              28.66\n",
      "4    1981        19.77        26.26        26.26              27.71\n",
      "5    1982        19.18        25.04        26.62              29.16\n",
      "6    1983        18.79        24.36        26.11              30.73\n",
      "7    1984        19.25        23.91        26.09              30.75\n",
      "8    1985        19.84        23.26        25.27              31.63\n",
      "9    1986        19.28        23.32        25.11              32.29\n",
      "10   1987        19.18        23.11        24.77              32.93\n",
      "11   1988        20.00        23.57        23.72              32.71\n",
      "12   1989        20.50        23.50        23.97              32.02\n",
      "13   1990        20.56        23.68        23.83              31.93\n",
      "14   1991        20.63        23.65        24.44              31.27\n",
      "15   1992        21.04        23.98        23.98              31.00\n",
      "16   1993        21.59        24.19        23.54              30.68\n",
      "17   1994        22.44        24.92        22.94              29.70\n",
      "18   1995        21.70        25.21        23.21              29.88\n",
      "19   1996        20.34        25.52        24.66              29.48\n",
      "20   1997        19.86        25.71        24.82              29.61\n",
      "21   1998        19.50        25.58        24.87              30.05\n",
      "22   1999        19.17        25.81        25.05              29.98\n",
      "23   2000        19.50        25.62        25.81              29.06\n",
      "24   2001        18.54        25.84        26.97              28.65\n",
      "25   2002        17.98        26.06        27.34              28.62\n",
      "26   2003        18.05        26.32        28.20              27.44\n",
      "27   2004        19.00        26.01        28.41              26.57\n",
      "28   2005        18.40        25.84        28.44              27.32\n",
      "29   2006        18.11        25.88        29.57              26.43\n",
      "30   2007        17.42        26.32        30.31              25.95\n",
      "31   2008        17.43        25.70        30.81              26.06\n",
      "32   2009        17.45        25.48        31.24              25.83\n",
      "33   2010        17.80        25.42        31.53              25.25\n",
      "34   2011        18.24        25.54        30.85              25.37\n",
      "35   2012        18.11        25.61        31.16              25.12\n",
      "36   2013        17.99        25.12        30.79              26.09\n",
      "37   2014        18.24        24.84        30.66              26.26\n",
      "38   2015        19.20        25.19        30.11              25.50\n",
      "39   2016        20.00        25.61        29.09              25.30\n",
      "40   2017        21.14        25.80        28.57              24.49\n",
      "41   2018        20.74        25.61        28.76              24.89\n"
     ]
    }
   ],
   "source": [
    "pivot_pct_age_total = pct_age_total.pivot(\n",
    "    index = 'YEAR',\n",
    "    columns = 'AGE',\n",
    "    values = 'PCT').reset_index()\n",
    "print(pivot_pct_age_total)"
   ]
  },
  {
   "cell_type": "code",
   "execution_count": 187,
   "id": "0a4d228f-f21d-4669-b831-752a04519d02",
   "metadata": {},
   "outputs": [
    {
     "name": "stdout",
     "output_type": "stream",
     "text": [
      "   UNIT_NUM STUB_NAME  STUB_NAME_NUM         STUB_LABEL  STUB_LABEL_NUM  YEAR  \\\n",
      "0         2       Age              1        15-24 years             1.2  1950   \n",
      "1         2       Age              1  65 years and over             1.5  1950   \n",
      "2         2       Age              1        25-44 years             1.3  1950   \n",
      "3         2       Age              1        45-64 years             1.4  1950   \n",
      "\n",
      "   YEAR_NUM                AGE  AGE_NUM  ESTIMATE FLAG  AGE_RATING  TOTAL  \\\n",
      "0         1        15-24 years      2.0       4.5  NaN          13   69.6   \n",
      "1         1  65 years and over      5.0      30.0  NaN          13   69.6   \n",
      "2         1        25-44 years      3.0      11.6  NaN          13   69.6   \n",
      "3         1        45-64 years      4.0      23.5  NaN          13   69.6   \n",
      "\n",
      "     PCT  \n",
      "0   6.47  \n",
      "1  43.10  \n",
      "2  16.67  \n",
      "3  33.76  \n"
     ]
    }
   ],
   "source": [
    "pct_age_total_1950 = pct_age_total[pct_age_total.YEAR == 1950]\n",
    "print(pct_age_total_1950)"
   ]
  },
  {
   "cell_type": "code",
   "execution_count": 190,
   "id": "990cc20d-5496-4727-8b0c-eac5e32a2cd5",
   "metadata": {},
   "outputs": [
    {
     "data": {
      "image/png": "[encoded data removed]",
      "text/plain": [
       "<Figure size 640x480 with 1 Axes>"
      ]
     },
     "metadata": {},
     "output_type": "display_data"
    },
    {
     "data": {
      "text/plain": [
       "<Figure size 640x480 with 0 Axes>"
      ]
     },
     "metadata": {},
     "output_type": "display_data"
    }
   ],
   "source": [
    "plt.pie(pct_age_total_1950.PCT, labels = [str(cohort) for cohort in pct_age_total_1950.AGE.unique()], autopct='%d%%')\n",
    "plt.axis('equal')\n",
    "plt.show()\n",
    "plt.clf()"
   ]
  },
  {
   "cell_type": "markdown",
   "id": "e4f97eda-4ca5-4d48-b62f-7e63810a8f23",
   "metadata": {},
   "source": [
    "Let's analyze for Suicide Differences by Sex now."
   ]
  },
  {
   "cell_type": "code",
   "execution_count": 194,
   "id": "28d1db5a-a9fe-4222-a100-eaf8b50213f5",
   "metadata": {},
   "outputs": [],
   "source": [
    "sex_crude_suicide = crude_suicide[crude_suicide['STUB_NAME'] == 'Sex']"
   ]
  },
  {
   "cell_type": "code",
   "execution_count": 195,
   "id": "2a03fe1f-78a6-47e2-8ba2-b0b162d21417",
   "metadata": {},
   "outputs": [
    {
     "name": "stdout",
     "output_type": "stream",
     "text": [
      "<class 'pandas.core.frame.DataFrame'>\n",
      "Index: 84 entries, 630 to 713\n",
      "Data columns (total 11 columns):\n",
      " #   Column          Non-Null Count  Dtype  \n",
      "---  ------          --------------  -----  \n",
      " 0   UNIT_NUM        84 non-null     int64  \n",
      " 1   STUB_NAME       84 non-null     object \n",
      " 2   STUB_NAME_NUM   84 non-null     int64  \n",
      " 3   STUB_LABEL      84 non-null     object \n",
      " 4   STUB_LABEL_NUM  84 non-null     float64\n",
      " 5   YEAR            84 non-null     int64  \n",
      " 6   YEAR_NUM        84 non-null     int64  \n",
      " 7   AGE             84 non-null     object \n",
      " 8   AGE_NUM         84 non-null     float64\n",
      " 9   ESTIMATE        84 non-null     float64\n",
      " 10  FLAG            0 non-null      object \n",
      "dtypes: float64(3), int64(4), object(4)\n",
      "memory usage: 7.9+ KB\n",
      "None\n"
     ]
    }
   ],
   "source": [
    "print(sex_crude_suicide.info())"
   ]
  },
  {
   "cell_type": "code",
   "execution_count": 197,
   "id": "689c2f67-727c-4881-a864-05ff171120d5",
   "metadata": {},
   "outputs": [
    {
     "name": "stdout",
     "output_type": "stream",
     "text": [
      "['Male' 'Female']\n"
     ]
    }
   ],
   "source": [
    "print(sex_crude_suicide.STUB_LABEL.unique())"
   ]
  },
  {
   "cell_type": "code",
   "execution_count": 198,
   "id": "45da251a-84b1-47a5-9cf1-03c82aee862b",
   "metadata": {},
   "outputs": [],
   "source": [
    "male_crude_suicide = sex_crude_suicide[sex_crude_suicide['STUB_LABEL'] == 'Male']\n",
    "female_crude_suicide = sex_crude_suicide[sex_crude_suicide['STUB_LABEL'] == 'Female']"
   ]
  },
  {
   "cell_type": "code",
   "execution_count": 199,
   "id": "cd410831-0821-406f-96fc-84ccd22ac383",
   "metadata": {},
   "outputs": [
    {
     "name": "stdout",
     "output_type": "stream",
     "text": [
      "<class 'pandas.core.frame.DataFrame'>\n",
      "Index: 42 entries, 672 to 713\n",
      "Data columns (total 11 columns):\n",
      " #   Column          Non-Null Count  Dtype  \n",
      "---  ------          --------------  -----  \n",
      " 0   UNIT_NUM        42 non-null     int64  \n",
      " 1   STUB_NAME       42 non-null     object \n",
      " 2   STUB_NAME_NUM   42 non-null     int64  \n",
      " 3   STUB_LABEL      42 non-null     object \n",
      " 4   STUB_LABEL_NUM  42 non-null     float64\n",
      " 5   YEAR            42 non-null     int64  \n",
      " 6   YEAR_NUM        42 non-null     int64  \n",
      " 7   AGE             42 non-null     object \n",
      " 8   AGE_NUM         42 non-null     float64\n",
      " 9   ESTIMATE        42 non-null     float64\n",
      " 10  FLAG            0 non-null      object \n",
      "dtypes: float64(3), int64(4), object(4)\n",
      "memory usage: 3.9+ KB\n",
      "None\n"
     ]
    }
   ],
   "source": [
    "print(female_crude_suicide.info())"
   ]
  },
  {
   "cell_type": "code",
   "execution_count": 203,
   "id": "6cd32316-1be6-4cce-a9be-329a145d2c8f",
   "metadata": {},
   "outputs": [],
   "source": [
    "male_crude_suicide_byyear = male_crude_suicide.groupby('YEAR').ESTIMATE.sum().reset_index()\n",
    "female_crude_suicide_byyear = female_crude_suicide.groupby('YEAR').ESTIMATE.sum().reset_index()"
   ]
  },
  {
   "cell_type": "code",
   "execution_count": 204,
   "id": "314107c6-c57f-4575-b557-793573768bfd",
   "metadata": {},
   "outputs": [
    {
     "name": "stdout",
     "output_type": "stream",
     "text": [
      "    YEAR  ESTIMATE\n",
      "0   1950      17.8\n",
      "1   1960      16.5\n",
      "2   1970      16.8\n",
      "3   1980      18.6\n",
      "4   1981      18.7\n",
      "5   1982      19.2\n",
      "6   1983      19.2\n",
      "7   1984      19.8\n",
      "8   1985      20.0\n",
      "9   1986      20.7\n",
      "10  1987      20.6\n",
      "11  1988      20.2\n",
      "12  1989      20.0\n",
      "13  1990      20.4\n",
      "14  1991      20.1\n",
      "15  1992      19.5\n",
      "16  1993      19.7\n",
      "17  1994      19.6\n",
      "18  1995      19.5\n",
      "19  1996      19.0\n",
      "20  1997      18.3\n",
      "21  1998      18.2\n",
      "22  1999      17.1\n",
      "23  2000      17.1\n",
      "24  2001      17.6\n",
      "25  2002      18.0\n",
      "26  2003      17.7\n",
      "27  2004      17.8\n",
      "28  2005      17.8\n",
      "29  2006      17.9\n",
      "30  2007      18.4\n",
      "31  2008      19.0\n",
      "32  2009      19.3\n",
      "33  2010      19.9\n",
      "34  2011      20.2\n",
      "35  2012      20.6\n",
      "36  2013      20.6\n",
      "37  2014      21.1\n",
      "38  2015      21.5\n",
      "39  2016      21.8\n",
      "40  2017      22.9\n",
      "41  2018      23.4\n"
     ]
    }
   ],
   "source": [
    "print(male_crude_suicide_byyear)"
   ]
  },
  {
   "cell_type": "code",
   "execution_count": 213,
   "id": "d909eb17-29fe-496c-b802-c221fe01da0b",
   "metadata": {},
   "outputs": [
    {
     "data": {
      "image/png": "[encoded data removed]",
      "text/plain": [
       "<Figure size 640x480 with 1 Axes>"
      ]
     },
     "metadata": {},
     "output_type": "display_data"
    },
    {
     "data": {
      "text/plain": [
       "<Figure size 640x480 with 0 Axes>"
      ]
     },
     "metadata": {},
     "output_type": "display_data"
    }
   ],
   "source": [
    "plt.title(\"Gender Differences in Suicide Rate from 1950 to 2018\")\n",
    "ax1 = plt.subplot()\n",
    "ax1.plot(male_crude_suicide_byyear.YEAR, male_crude_suicide_byyear.ESTIMATE, label='Male Suicide Estimate Total', color='purple')\n",
    "ax1.set_xticks([1950, 1960, 1970, 1980, 1985, 1990, 1995, 2000, 2005, 2010, 2015, 2018])\n",
    "ax1.set_xticklabels([str(x) for x in [1950, 1960, 1970, 1980, 1985, 1990, 1995, 2000, 2005, 2010, 2015, 2018]], rotation=90)\n",
    "ax1.set_yticks(range(0, 30, 2))\n",
    "ax1.set_xlabel('Years')\n",
    "ax1.set_ylabel('Suicide Rate per 100k residents')\n",
    "\n",
    "ax2 = plt.subplot()\n",
    "ax2.plot(female_crude_suicide_byyear.YEAR, female_crude_suicide_byyear.ESTIMATE, label='Female Suicide Estimate Total', color='green')\n",
    "\n",
    "ax3 = plt.subplot()\n",
    "ax3.plot(male_crude_suicide_byyear.YEAR, male_crude_suicide_byyear.ESTIMATE - female_crude_suicide_byyear.ESTIMATE, label='Difference in Estimate', color='pink')\n",
    "\n",
    "plt.legend(loc=2)\n",
    "plt.show()\n",
    "plt.clf()"
   ]
  },
  {
   "cell_type": "markdown",
   "id": "8dc02bfa-5256-4cab-a76e-7bb165a265dc",
   "metadata": {},
   "source": [
    "Now let us take a look at this other DataFrame"
   ]
  },
  {
   "cell_type": "code",
   "execution_count": 216,
   "id": "b70f2242-13b6-4ad2-8051-4c7616fc4dce",
   "metadata": {},
   "outputs": [],
   "source": [
    "sexnrace_crude_suicide = crude_suicide[crude_suicide['STUB_NAME'] == 'Sex and race (Single race)']"
   ]
  },
  {
   "cell_type": "code",
   "execution_count": 217,
   "id": "7633a0f2-ffde-4a83-8c97-2e9d9dce1a24",
   "metadata": {},
   "outputs": [
    {
     "name": "stdout",
     "output_type": "stream",
     "text": [
      "      UNIT_NUM                   STUB_NAME  STUB_NAME_NUM  \\\n",
      "5482         2  Sex and race (Single race)              8   \n",
      "5483         2  Sex and race (Single race)              8   \n",
      "5484         2  Sex and race (Single race)              8   \n",
      "5485         2  Sex and race (Single race)              8   \n",
      "5486         2  Sex and race (Single race)              8   \n",
      "\n",
      "                                  STUB_LABEL  STUB_LABEL_NUM  YEAR  YEAR_NUM  \\\n",
      "5482                             Male: White            4.11  2018        42   \n",
      "5483  Male: American Indian or Alaska Native            4.13  2018        42   \n",
      "5484                           Female: White            4.21  2018        42   \n",
      "5485       Female: Black or African American            4.22  2018        42   \n",
      "5486       Female: Black or African American            4.22  2018        42   \n",
      "\n",
      "           AGE  AGE_NUM  ESTIMATE FLAG  \n",
      "5482  All ages      0.0      26.9  NaN  \n",
      "5483  All ages      0.0      21.1  NaN  \n",
      "5484  All ages      0.0       7.3  NaN  \n",
      "5485  All ages      0.0      11.9  NaN  \n",
      "5486  All ages      0.0       2.8  NaN  \n"
     ]
    }
   ],
   "source": [
    "print(sexnrace_crude_suicide.head())"
   ]
  },
  {
   "cell_type": "code",
   "execution_count": 218,
   "id": "3d55fc1b-e57e-4283-986b-fb6e60ced846",
   "metadata": {},
   "outputs": [
    {
     "name": "stdout",
     "output_type": "stream",
     "text": [
      "['Male: White' 'Male: American Indian or Alaska Native' 'Female: White'\n",
      " 'Female: Black or African American'\n",
      " 'Female: American Indian or Alaska Native']\n"
     ]
    }
   ],
   "source": [
    "print(sexnrace_crude_suicide.STUB_LABEL.unique())"
   ]
  },
  {
   "cell_type": "code",
   "execution_count": 219,
   "id": "665b8853-83a5-4d0e-9f99-20981d65c48e",
   "metadata": {},
   "outputs": [
    {
     "name": "stdout",
     "output_type": "stream",
     "text": [
      "<class 'pandas.core.frame.DataFrame'>\n",
      "Index: 2 entries, 5482 to 5484\n",
      "Data columns (total 11 columns):\n",
      " #   Column          Non-Null Count  Dtype  \n",
      "---  ------          --------------  -----  \n",
      " 0   UNIT_NUM        2 non-null      int64  \n",
      " 1   STUB_NAME       2 non-null      object \n",
      " 2   STUB_NAME_NUM   2 non-null      int64  \n",
      " 3   STUB_LABEL      2 non-null      object \n",
      " 4   STUB_LABEL_NUM  2 non-null      float64\n",
      " 5   YEAR            2 non-null      int64  \n",
      " 6   YEAR_NUM        2 non-null      int64  \n",
      " 7   AGE             2 non-null      object \n",
      " 8   AGE_NUM         2 non-null      float64\n",
      " 9   ESTIMATE        2 non-null      float64\n",
      " 10  FLAG            0 non-null      object \n",
      "dtypes: float64(3), int64(4), object(4)\n",
      "memory usage: 192.0+ bytes\n",
      "None\n"
     ]
    }
   ],
   "source": [
    "whites_crude_suicide = sexnrace_crude_suicide[(sexnrace_crude_suicide['STUB_LABEL'] == 'Male: White') | (sexnrace_crude_suicide['STUB_LABEL'] == 'Female: White')]\n",
    "print(whites_crude_suicide.info())"
   ]
  },
  {
   "cell_type": "code",
   "execution_count": 221,
   "id": "dfdaf162-8ade-421e-b545-fcf7c37722d7",
   "metadata": {},
   "outputs": [
    {
     "name": "stdout",
     "output_type": "stream",
     "text": [
      "[26.9  7.3]\n"
     ]
    }
   ],
   "source": [
    "print(whites_crude_suicide.ESTIMATE.unique())"
   ]
  }
 ],
 "metadata": {
  "kernelspec": {
   "display_name": "Python 3 (ipykernel)",
   "language": "python",
   "name": "python3"
  },
  "language_info": {
   "codemirror_mode": {
    "name": "ipython",
    "version": 3
   },
   "file_extension": ".py",
   "mimetype": "text/x-python",
   "name": "python",
   "nbconvert_exporter": "python",
   "pygments_lexer": "ipython3",
   "version": "3.10.14"
  }
 },
 "nbformat": 4,
 "nbformat_minor": 5
}
